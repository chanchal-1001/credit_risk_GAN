{
 "cells": [
  {
   "cell_type": "code",
   "execution_count": 1,
   "id": "d614aa09-a193-4818-8db9-70017ae7f840",
   "metadata": {},
   "outputs": [
    {
     "name": "stdout",
     "output_type": "stream",
     "text": [
      "Collecting diffprivlib\n",
      "  Downloading diffprivlib-0.6.3-py3-none-any.whl (176 kB)\n",
      "     ------------------------------------ 176.0/176.0 kB 816.6 kB/s eta 0:00:00\n",
      "Requirement already satisfied: numpy>=1.21.6 in c:\\users\\chanc\\anaconda3\\lib\\site-packages (from diffprivlib) (1.24.3)\n",
      "Requirement already satisfied: scikit-learn>=0.24.2 in c:\\users\\chanc\\anaconda3\\lib\\site-packages (from diffprivlib) (1.0.2)\n",
      "Requirement already satisfied: scipy>=1.7.3 in c:\\users\\chanc\\anaconda3\\lib\\site-packages (from diffprivlib) (1.11.2)\n",
      "Requirement already satisfied: joblib>=0.16.0 in c:\\users\\chanc\\anaconda3\\lib\\site-packages (from diffprivlib) (1.1.0)\n",
      "Requirement already satisfied: setuptools>=49.0.0 in c:\\users\\chanc\\anaconda3\\lib\\site-packages (from diffprivlib) (61.2.0)\n",
      "Requirement already satisfied: threadpoolctl>=2.0.0 in c:\\users\\chanc\\anaconda3\\lib\\site-packages (from scikit-learn>=0.24.2->diffprivlib) (2.2.0)\n",
      "Installing collected packages: diffprivlibNote: you may need to restart the kernel to use updated packages.\n",
      "Successfully installed diffprivlib-0.6.3\n",
      "\n"
     ]
    },
    {
     "name": "stderr",
     "output_type": "stream",
     "text": [
      "WARNING: Ignoring invalid distribution -atplotlib (c:\\users\\chanc\\anaconda3\\lib\\site-packages)\n",
      "WARNING: Ignoring invalid distribution -atplotlib (c:\\users\\chanc\\anaconda3\\lib\\site-packages)\n"
     ]
    }
   ],
   "source": [
    "pip install diffprivlib "
   ]
  },
  {
   "cell_type": "code",
   "execution_count": 58,
   "id": "710fcf83-e63d-4a91-8e3a-909a50d0d089",
   "metadata": {},
   "outputs": [],
   "source": [
    "from sklearn import datasets\n",
    "from sklearn.model_selection import train_test_split\n",
    "from sklearn import preprocessing\n",
    "import pandas as pd\n",
    "from diffprivlib.models import GaussianNB\n",
    "import numpy as np\n",
    "\n",
    "import matplotlib.pyplot as plt"
   ]
  },
  {
   "cell_type": "code",
   "execution_count": 6,
   "id": "54145d4b-2656-4508-8e9f-a3743fa2bb77",
   "metadata": {},
   "outputs": [
    {
     "data": {
      "text/plain": [
       "array([1, 1, 2, 1, 2, 0, 0, 0, 0, 2, 0, 0, 1, 2, 0, 2, 0, 0, 0, 0, 1, 1,\n",
       "       2, 0, 1, 2, 1, 2, 2, 2])"
      ]
     },
     "execution_count": 6,
     "metadata": {},
     "output_type": "execute_result"
    }
   ],
   "source": [
    "clf.predict(X_test)"
   ]
  },
  {
   "cell_type": "code",
   "execution_count": 13,
   "id": "0f849a0b-737a-47ef-8c33-5271b5849756",
   "metadata": {},
   "outputs": [
    {
     "name": "stdout",
     "output_type": "stream",
     "text": [
      "Test accuracy: 0.866667\n"
     ]
    }
   ],
   "source": [
    "print(\"Test accuracy: %f\" % clf.score(X_test, y_test))"
   ]
  },
  {
   "cell_type": "code",
   "execution_count": 20,
   "id": "787c6ea8-21a0-40f0-b258-c2468222e378",
   "metadata": {},
   "outputs": [],
   "source": [
    "columnNames=[\"Status of existing checking account\",\"Duration in month\",\"Credit history\",\n",
    "         \"Purpose\",\"Credit amount\",\"Savings account/bonds\",\"Present employment since\",\n",
    "         \"Installment rate in percentage of disposable income\",\"Personal status and sex\",\n",
    "         \"Other debtors / guarantors\",\"Present residence since\",\"Property\",\"Age in years\",\n",
    "        \"Other installment plans\",\"Housing\",\"Number of existing credits at this bank\",\n",
    "        \"Job\",\"Number of people being liable to provide maintenance for\",\"Telephone\",\"foreign worker\",\"class\"]\n",
    "def loadGermanData():\n",
    "    df=pd.read_csv(\"german.data\",sep=\" \",header=None)\n",
    "    \n",
    "    df.columns = columnNames    \n",
    "    return df"
   ]
  },
  {
   "cell_type": "code",
   "execution_count": 23,
   "id": "2dc377ee-b80c-4331-ac6f-a8b11fd2af8f",
   "metadata": {},
   "outputs": [],
   "source": [
    "df = loadGermanData()"
   ]
  },
  {
   "cell_type": "code",
   "execution_count": 24,
   "id": "33918f75-57a0-406f-bf2c-ab08d681ec9f",
   "metadata": {},
   "outputs": [],
   "source": [
    "le = preprocessing.LabelEncoder()\n",
    "for column in df.columns:\n",
    "    if df[column].dtype == type(object):\n",
    "        df[column] = le.fit_transform(df[column])"
   ]
  },
  {
   "cell_type": "code",
   "execution_count": 25,
   "id": "f18bb7b2-8384-4459-9fdc-ba3259698785",
   "metadata": {},
   "outputs": [
    {
     "data": {
      "text/html": [
       "<div>\n",
       "<style scoped>\n",
       "    .dataframe tbody tr th:only-of-type {\n",
       "        vertical-align: middle;\n",
       "    }\n",
       "\n",
       "    .dataframe tbody tr th {\n",
       "        vertical-align: top;\n",
       "    }\n",
       "\n",
       "    .dataframe thead th {\n",
       "        text-align: right;\n",
       "    }\n",
       "</style>\n",
       "<table border=\"1\" class=\"dataframe\">\n",
       "  <thead>\n",
       "    <tr style=\"text-align: right;\">\n",
       "      <th></th>\n",
       "      <th>Status of existing checking account</th>\n",
       "      <th>Duration in month</th>\n",
       "      <th>Credit history</th>\n",
       "      <th>Purpose</th>\n",
       "      <th>Credit amount</th>\n",
       "      <th>Savings account/bonds</th>\n",
       "      <th>Present employment since</th>\n",
       "      <th>Installment rate in percentage of disposable income</th>\n",
       "      <th>Personal status and sex</th>\n",
       "      <th>Other debtors / guarantors</th>\n",
       "      <th>...</th>\n",
       "      <th>Property</th>\n",
       "      <th>Age in years</th>\n",
       "      <th>Other installment plans</th>\n",
       "      <th>Housing</th>\n",
       "      <th>Number of existing credits at this bank</th>\n",
       "      <th>Job</th>\n",
       "      <th>Number of people being liable to provide maintenance for</th>\n",
       "      <th>Telephone</th>\n",
       "      <th>foreign worker</th>\n",
       "      <th>class</th>\n",
       "    </tr>\n",
       "  </thead>\n",
       "  <tbody>\n",
       "    <tr>\n",
       "      <th>0</th>\n",
       "      <td>0</td>\n",
       "      <td>6</td>\n",
       "      <td>4</td>\n",
       "      <td>4</td>\n",
       "      <td>1169</td>\n",
       "      <td>4</td>\n",
       "      <td>4</td>\n",
       "      <td>4</td>\n",
       "      <td>2</td>\n",
       "      <td>0</td>\n",
       "      <td>...</td>\n",
       "      <td>0</td>\n",
       "      <td>67</td>\n",
       "      <td>2</td>\n",
       "      <td>1</td>\n",
       "      <td>2</td>\n",
       "      <td>2</td>\n",
       "      <td>1</td>\n",
       "      <td>1</td>\n",
       "      <td>0</td>\n",
       "      <td>1</td>\n",
       "    </tr>\n",
       "    <tr>\n",
       "      <th>1</th>\n",
       "      <td>1</td>\n",
       "      <td>48</td>\n",
       "      <td>2</td>\n",
       "      <td>4</td>\n",
       "      <td>5951</td>\n",
       "      <td>0</td>\n",
       "      <td>2</td>\n",
       "      <td>2</td>\n",
       "      <td>1</td>\n",
       "      <td>0</td>\n",
       "      <td>...</td>\n",
       "      <td>0</td>\n",
       "      <td>22</td>\n",
       "      <td>2</td>\n",
       "      <td>1</td>\n",
       "      <td>1</td>\n",
       "      <td>2</td>\n",
       "      <td>1</td>\n",
       "      <td>0</td>\n",
       "      <td>0</td>\n",
       "      <td>2</td>\n",
       "    </tr>\n",
       "    <tr>\n",
       "      <th>2</th>\n",
       "      <td>3</td>\n",
       "      <td>12</td>\n",
       "      <td>4</td>\n",
       "      <td>7</td>\n",
       "      <td>2096</td>\n",
       "      <td>0</td>\n",
       "      <td>3</td>\n",
       "      <td>2</td>\n",
       "      <td>2</td>\n",
       "      <td>0</td>\n",
       "      <td>...</td>\n",
       "      <td>0</td>\n",
       "      <td>49</td>\n",
       "      <td>2</td>\n",
       "      <td>1</td>\n",
       "      <td>1</td>\n",
       "      <td>1</td>\n",
       "      <td>2</td>\n",
       "      <td>0</td>\n",
       "      <td>0</td>\n",
       "      <td>1</td>\n",
       "    </tr>\n",
       "    <tr>\n",
       "      <th>3</th>\n",
       "      <td>0</td>\n",
       "      <td>42</td>\n",
       "      <td>2</td>\n",
       "      <td>3</td>\n",
       "      <td>7882</td>\n",
       "      <td>0</td>\n",
       "      <td>3</td>\n",
       "      <td>2</td>\n",
       "      <td>2</td>\n",
       "      <td>2</td>\n",
       "      <td>...</td>\n",
       "      <td>1</td>\n",
       "      <td>45</td>\n",
       "      <td>2</td>\n",
       "      <td>2</td>\n",
       "      <td>1</td>\n",
       "      <td>2</td>\n",
       "      <td>2</td>\n",
       "      <td>0</td>\n",
       "      <td>0</td>\n",
       "      <td>1</td>\n",
       "    </tr>\n",
       "    <tr>\n",
       "      <th>4</th>\n",
       "      <td>0</td>\n",
       "      <td>24</td>\n",
       "      <td>3</td>\n",
       "      <td>0</td>\n",
       "      <td>4870</td>\n",
       "      <td>0</td>\n",
       "      <td>2</td>\n",
       "      <td>3</td>\n",
       "      <td>2</td>\n",
       "      <td>0</td>\n",
       "      <td>...</td>\n",
       "      <td>3</td>\n",
       "      <td>53</td>\n",
       "      <td>2</td>\n",
       "      <td>2</td>\n",
       "      <td>2</td>\n",
       "      <td>2</td>\n",
       "      <td>2</td>\n",
       "      <td>0</td>\n",
       "      <td>0</td>\n",
       "      <td>2</td>\n",
       "    </tr>\n",
       "    <tr>\n",
       "      <th>...</th>\n",
       "      <td>...</td>\n",
       "      <td>...</td>\n",
       "      <td>...</td>\n",
       "      <td>...</td>\n",
       "      <td>...</td>\n",
       "      <td>...</td>\n",
       "      <td>...</td>\n",
       "      <td>...</td>\n",
       "      <td>...</td>\n",
       "      <td>...</td>\n",
       "      <td>...</td>\n",
       "      <td>...</td>\n",
       "      <td>...</td>\n",
       "      <td>...</td>\n",
       "      <td>...</td>\n",
       "      <td>...</td>\n",
       "      <td>...</td>\n",
       "      <td>...</td>\n",
       "      <td>...</td>\n",
       "      <td>...</td>\n",
       "      <td>...</td>\n",
       "    </tr>\n",
       "    <tr>\n",
       "      <th>995</th>\n",
       "      <td>3</td>\n",
       "      <td>12</td>\n",
       "      <td>2</td>\n",
       "      <td>3</td>\n",
       "      <td>1736</td>\n",
       "      <td>0</td>\n",
       "      <td>3</td>\n",
       "      <td>3</td>\n",
       "      <td>1</td>\n",
       "      <td>0</td>\n",
       "      <td>...</td>\n",
       "      <td>0</td>\n",
       "      <td>31</td>\n",
       "      <td>2</td>\n",
       "      <td>1</td>\n",
       "      <td>1</td>\n",
       "      <td>1</td>\n",
       "      <td>1</td>\n",
       "      <td>0</td>\n",
       "      <td>0</td>\n",
       "      <td>1</td>\n",
       "    </tr>\n",
       "    <tr>\n",
       "      <th>996</th>\n",
       "      <td>0</td>\n",
       "      <td>30</td>\n",
       "      <td>2</td>\n",
       "      <td>1</td>\n",
       "      <td>3857</td>\n",
       "      <td>0</td>\n",
       "      <td>2</td>\n",
       "      <td>4</td>\n",
       "      <td>0</td>\n",
       "      <td>0</td>\n",
       "      <td>...</td>\n",
       "      <td>1</td>\n",
       "      <td>40</td>\n",
       "      <td>2</td>\n",
       "      <td>1</td>\n",
       "      <td>1</td>\n",
       "      <td>3</td>\n",
       "      <td>1</td>\n",
       "      <td>1</td>\n",
       "      <td>0</td>\n",
       "      <td>1</td>\n",
       "    </tr>\n",
       "    <tr>\n",
       "      <th>997</th>\n",
       "      <td>3</td>\n",
       "      <td>12</td>\n",
       "      <td>2</td>\n",
       "      <td>4</td>\n",
       "      <td>804</td>\n",
       "      <td>0</td>\n",
       "      <td>4</td>\n",
       "      <td>4</td>\n",
       "      <td>2</td>\n",
       "      <td>0</td>\n",
       "      <td>...</td>\n",
       "      <td>2</td>\n",
       "      <td>38</td>\n",
       "      <td>2</td>\n",
       "      <td>1</td>\n",
       "      <td>1</td>\n",
       "      <td>2</td>\n",
       "      <td>1</td>\n",
       "      <td>0</td>\n",
       "      <td>0</td>\n",
       "      <td>1</td>\n",
       "    </tr>\n",
       "    <tr>\n",
       "      <th>998</th>\n",
       "      <td>0</td>\n",
       "      <td>45</td>\n",
       "      <td>2</td>\n",
       "      <td>4</td>\n",
       "      <td>1845</td>\n",
       "      <td>0</td>\n",
       "      <td>2</td>\n",
       "      <td>4</td>\n",
       "      <td>2</td>\n",
       "      <td>0</td>\n",
       "      <td>...</td>\n",
       "      <td>3</td>\n",
       "      <td>23</td>\n",
       "      <td>2</td>\n",
       "      <td>2</td>\n",
       "      <td>1</td>\n",
       "      <td>2</td>\n",
       "      <td>1</td>\n",
       "      <td>1</td>\n",
       "      <td>0</td>\n",
       "      <td>2</td>\n",
       "    </tr>\n",
       "    <tr>\n",
       "      <th>999</th>\n",
       "      <td>1</td>\n",
       "      <td>45</td>\n",
       "      <td>4</td>\n",
       "      <td>1</td>\n",
       "      <td>4576</td>\n",
       "      <td>1</td>\n",
       "      <td>0</td>\n",
       "      <td>3</td>\n",
       "      <td>2</td>\n",
       "      <td>0</td>\n",
       "      <td>...</td>\n",
       "      <td>2</td>\n",
       "      <td>27</td>\n",
       "      <td>2</td>\n",
       "      <td>1</td>\n",
       "      <td>1</td>\n",
       "      <td>2</td>\n",
       "      <td>1</td>\n",
       "      <td>0</td>\n",
       "      <td>0</td>\n",
       "      <td>1</td>\n",
       "    </tr>\n",
       "  </tbody>\n",
       "</table>\n",
       "<p>1000 rows × 21 columns</p>\n",
       "</div>"
      ],
      "text/plain": [
       "     Status of existing checking account  Duration in month  Credit history  \\\n",
       "0                                      0                  6               4   \n",
       "1                                      1                 48               2   \n",
       "2                                      3                 12               4   \n",
       "3                                      0                 42               2   \n",
       "4                                      0                 24               3   \n",
       "..                                   ...                ...             ...   \n",
       "995                                    3                 12               2   \n",
       "996                                    0                 30               2   \n",
       "997                                    3                 12               2   \n",
       "998                                    0                 45               2   \n",
       "999                                    1                 45               4   \n",
       "\n",
       "     Purpose  Credit amount  Savings account/bonds  Present employment since  \\\n",
       "0          4           1169                      4                         4   \n",
       "1          4           5951                      0                         2   \n",
       "2          7           2096                      0                         3   \n",
       "3          3           7882                      0                         3   \n",
       "4          0           4870                      0                         2   \n",
       "..       ...            ...                    ...                       ...   \n",
       "995        3           1736                      0                         3   \n",
       "996        1           3857                      0                         2   \n",
       "997        4            804                      0                         4   \n",
       "998        4           1845                      0                         2   \n",
       "999        1           4576                      1                         0   \n",
       "\n",
       "     Installment rate in percentage of disposable income  \\\n",
       "0                                                    4     \n",
       "1                                                    2     \n",
       "2                                                    2     \n",
       "3                                                    2     \n",
       "4                                                    3     \n",
       "..                                                 ...     \n",
       "995                                                  3     \n",
       "996                                                  4     \n",
       "997                                                  4     \n",
       "998                                                  4     \n",
       "999                                                  3     \n",
       "\n",
       "     Personal status and sex  Other debtors / guarantors  ...  Property  \\\n",
       "0                          2                           0  ...         0   \n",
       "1                          1                           0  ...         0   \n",
       "2                          2                           0  ...         0   \n",
       "3                          2                           2  ...         1   \n",
       "4                          2                           0  ...         3   \n",
       "..                       ...                         ...  ...       ...   \n",
       "995                        1                           0  ...         0   \n",
       "996                        0                           0  ...         1   \n",
       "997                        2                           0  ...         2   \n",
       "998                        2                           0  ...         3   \n",
       "999                        2                           0  ...         2   \n",
       "\n",
       "     Age in years  Other installment plans  Housing  \\\n",
       "0              67                        2        1   \n",
       "1              22                        2        1   \n",
       "2              49                        2        1   \n",
       "3              45                        2        2   \n",
       "4              53                        2        2   \n",
       "..            ...                      ...      ...   \n",
       "995            31                        2        1   \n",
       "996            40                        2        1   \n",
       "997            38                        2        1   \n",
       "998            23                        2        2   \n",
       "999            27                        2        1   \n",
       "\n",
       "     Number of existing credits at this bank  Job  \\\n",
       "0                                          2    2   \n",
       "1                                          1    2   \n",
       "2                                          1    1   \n",
       "3                                          1    2   \n",
       "4                                          2    2   \n",
       "..                                       ...  ...   \n",
       "995                                        1    1   \n",
       "996                                        1    3   \n",
       "997                                        1    2   \n",
       "998                                        1    2   \n",
       "999                                        1    2   \n",
       "\n",
       "     Number of people being liable to provide maintenance for  Telephone  \\\n",
       "0                                                    1                 1   \n",
       "1                                                    1                 0   \n",
       "2                                                    2                 0   \n",
       "3                                                    2                 0   \n",
       "4                                                    2                 0   \n",
       "..                                                 ...               ...   \n",
       "995                                                  1                 0   \n",
       "996                                                  1                 1   \n",
       "997                                                  1                 0   \n",
       "998                                                  1                 1   \n",
       "999                                                  1                 0   \n",
       "\n",
       "     foreign worker  class  \n",
       "0                 0      1  \n",
       "1                 0      2  \n",
       "2                 0      1  \n",
       "3                 0      1  \n",
       "4                 0      2  \n",
       "..              ...    ...  \n",
       "995               0      1  \n",
       "996               0      1  \n",
       "997               0      1  \n",
       "998               0      2  \n",
       "999               0      1  \n",
       "\n",
       "[1000 rows x 21 columns]"
      ]
     },
     "execution_count": 25,
     "metadata": {},
     "output_type": "execute_result"
    }
   ],
   "source": [
    "df"
   ]
  },
  {
   "cell_type": "code",
   "execution_count": 26,
   "id": "68841cde-5574-4e88-9f01-eab0fe3b4ff9",
   "metadata": {},
   "outputs": [],
   "source": [
    "normalized_data = preprocessing.normalize(df, axis=1, norm='l2')\n",
    "normalized_data = pd.DataFrame(normalized_data, columns=columnNames)"
   ]
  },
  {
   "cell_type": "code",
   "execution_count": 33,
   "id": "6cb38c02-ed9b-4f6c-a826-1644e6577bea",
   "metadata": {},
   "outputs": [],
   "source": []
  },
  {
   "cell_type": "code",
   "execution_count": 44,
   "id": "51ae62c2-6c14-435f-a6fb-b2c051df847e",
   "metadata": {},
   "outputs": [],
   "source": [
    "dataset = normalized_data.values\n",
    "X = dataset[:, :-1]\n",
    "#X = X.astype(str)\n",
    "y = dataset[:,-1]"
   ]
  },
  {
   "cell_type": "code",
   "execution_count": 45,
   "id": "c3f29755-3b1e-4694-be01-37121818d628",
   "metadata": {},
   "outputs": [],
   "source": [
    "X_train, X_test, y_train, y_test = train_test_split(X, y, test_size=0.2)"
   ]
  },
  {
   "cell_type": "code",
   "execution_count": 60,
   "id": "85b4ed28-d140-4a2b-8d40-1686560f8821",
   "metadata": {},
   "outputs": [
    {
     "data": {
      "text/plain": [
       "GaussianNB(accountant=BudgetAccountant(spent_budget=[(1.0, 0), (1.0, 0), (1.0, 0), (0.01, 0), (0.012067926406393288, 0), ...]),\n",
       "           bounds=(array([0., 0., 0., 0., 0., 0., 0., 0., 0., 0., 0., 0., 0., 0., 0., 0., 0.,\n",
       "       0., 0., 0.]),\n",
       "                   array([1., 1., 1., 1., 1., 1., 1., 1., 1., 1., 1., 1., 1., 1., 1., 1., 1.,\n",
       "       1., 1., 1.])),\n",
       "           epsilon=100)"
      ]
     },
     "execution_count": 60,
     "metadata": {},
     "output_type": "execute_result"
    }
   ],
   "source": [
    "bounds = ([0., 0., 0., 0., 0., 0., 0., 0., 0., 0., 0., 0., 0., 0., 0., 0., 0.,\n",
    "       0., 0., 0.], [1., 1., 1., 1., 1., 1., 1., 1., 1., 1., 1., 1., 1., 1., 1., 1., 1.,\n",
    "       1., 1., 1.])\n",
    "clf = GaussianNB(bounds=bounds, epsilon=100)\n",
    "clf.fit(X_train, y_train)"
   ]
  },
  {
   "cell_type": "code",
   "execution_count": 62,
   "id": "ea677cc1-3144-4bf3-9a76-140547dbaec6",
   "metadata": {},
   "outputs": [
    {
     "name": "stderr",
     "output_type": "stream",
     "text": [
      "C:\\Users\\chanc\\anaconda3\\lib\\site-packages\\diffprivlib\\models\\naive_bayes.py:107: PrivacyLeakWarning: Bounds have not been specified and will be calculated on the data provided. This will result in additional privacy leakage. To ensure differential privacy and no additional privacy leakage, specify bounds for each dimension.\n",
      "  warnings.warn(\"Bounds have not been specified and will be calculated on the data provided. This will \"\n"
     ]
    },
    {
     "data": {
      "text/plain": [
       "GaussianNB(accountant=BudgetAccountant(spent_budget=[(1.0, 0), (1.0, 0), (1.0, 0), (0.01, 0), (0.012067926406393288, 0), ...]),\n",
       "           bounds=(array([0., 0., 0., 0., 0., 0., 0., 0., 0., 0., 0., 0., 0., 0., 0., 0., 0.,\n",
       "       0., 0., 0.]),\n",
       "                   array([1., 1., 1., 1., 1., 1., 1., 1., 1., 1., 1., 1., 1., 1., 1., 1., 1.,\n",
       "       1., 1., 1.])))"
      ]
     },
     "execution_count": 62,
     "metadata": {},
     "output_type": "execute_result"
    }
   ],
   "source": [
    "nonprivate_clf = GaussianNB()\n",
    "nonprivate_clf.fit(X_train, y_train)"
   ]
  },
  {
   "cell_type": "code",
   "execution_count": 61,
   "id": "be46c6b9-1a49-4e1c-9d4d-6b9d0299c976",
   "metadata": {},
   "outputs": [
    {
     "data": {
      "text/plain": [
       "0.69"
      ]
     },
     "execution_count": 61,
     "metadata": {},
     "output_type": "execute_result"
    }
   ],
   "source": [
    "clf.score(X_test, y_test)"
   ]
  },
  {
   "cell_type": "code",
   "execution_count": 64,
   "id": "0589f303-e872-466f-9747-2eb8b27834db",
   "metadata": {},
   "outputs": [
    {
     "data": {
      "text/plain": [
       "61.5"
      ]
     },
     "execution_count": 64,
     "metadata": {},
     "output_type": "execute_result"
    }
   ],
   "source": [
    "clf.score(X_test, nonprivate_clf.predict(X_test)) * 100"
   ]
  },
  {
   "cell_type": "raw",
   "id": "6199d9bf-4256-4db4-b7dc-c925cee83bd2",
   "metadata": {},
   "source": [
    "# The privacy level is controlled by the parameter epsilon, which is passed to the classifier at initialisation (e.g. GaussianNB(epsilon=0.1)). The default is epsilon = 1.0."
   ]
  },
  {
   "cell_type": "code",
   "execution_count": 69,
   "id": "7b1cd6cc-f044-4fca-ade2-805ac642674e",
   "metadata": {},
   "outputs": [
    {
     "data": {
      "image/png": "[encoded data removed]",
      "text/plain": [
       "<Figure size 432x288 with 1 Axes>"
      ]
     },
     "metadata": {
      "needs_background": "light"
     },
     "output_type": "display_data"
    }
   ],
   "source": [
    "epsilons = np.logspace(-2, 2, 50)\n",
    "bounds = ([0., 0., 0., 0., 0., 0., 0., 0., 0., 0., 0., 0., 0., 0., 0., 0., 0.,\n",
    "       0., 0., 0.], [1., 1., 1., 1., 1., 1., 1., 1., 1., 1., 1., 1., 1., 1., 1., 1., 1.,\n",
    "       1., 1., 1.])\n",
    "accuracy = list()\n",
    "\n",
    "for epsilon in epsilons:\n",
    "    clf = GaussianNB(bounds=bounds, epsilon=epsilon,random_state=42)\n",
    "    clf.fit(X_train, y_train)\n",
    "    \n",
    "    accuracy.append(clf.score(X_test, y_test))\n",
    "\n",
    "plt.semilogx(epsilons, accuracy)\n",
    "plt.title(\"Differentially private Naive Bayes accuracy\")\n",
    "plt.xlabel(\"epsilon\")\n",
    "plt.ylabel(\"Accuracy\")\n",
    "plt.show()"
   ]
  },
  {
   "cell_type": "code",
   "execution_count": 12,
   "id": "8db5a4e6-8b3d-4949-88ef-29064cc6fd18",
   "metadata": {},
   "outputs": [],
   "source": [
    "import base64\n",
    "import os\n",
    "import numpy as np\n",
    "from cryptography.fernet import Fernet\n",
    "from cryptography.hazmat.primitives import hashes\n",
    "from cryptography.hazmat.primitives.kdf.pbkdf2 import PBKDF2HMAC\n",
    "from cryptography.fernet import Fernet, MultiFernet"
   ]
  },
  {
   "cell_type": "code",
   "execution_count": 13,
   "id": "7e64a215-961f-4538-932f-2059ea3215dd",
   "metadata": {},
   "outputs": [
    {
     "data": {
      "text/plain": [
       "b'\\xc9\\x1f\\xeb\\x93\\xfc\\xd1\\xef\\xcd\\xcdk\\x18WJ\\xde,\\xd1'"
      ]
     },
     "execution_count": 13,
     "metadata": {},
     "output_type": "execute_result"
    }
   ],
   "source": [
    "salt = os.urandom(16) # to be kept safe same code will be used to decrypt the data\n",
    "salt"
   ]
  },
  {
   "cell_type": "code",
   "execution_count": 14,
   "id": "9391a43d-d0b0-403c-b7eb-675769652f25",
   "metadata": {},
   "outputs": [],
   "source": [
    "def encryptData(data):\n",
    "    password = b\"password\"    \n",
    "    kdf = PBKDF2HMAC(\n",
    "            algorithm=hashes.SHA256(),\n",
    "            length=32,\n",
    "            salt=salt,\n",
    "            iterations=480000,)\n",
    "    key = base64.urlsafe_b64encode(kdf.derive(password))\n",
    "    f = Fernet(key)\n",
    "    token = f.encrypt(data)\n",
    "    return token"
   ]
  },
  {
   "cell_type": "code",
   "execution_count": 17,
   "id": "bc8cf0b6-eeb8-4df9-854b-578f66c280d6",
   "metadata": {},
   "outputs": [],
   "source": [
    "val = encryptData(np.bytes_(-1.254566\t))"
   ]
  },
  {
   "cell_type": "code",
   "execution_count": 18,
   "id": "92411235-e209-462e-8358-87ed4dfb15e5",
   "metadata": {},
   "outputs": [
    {
     "data": {
      "text/plain": [
       "b'gAAAAABlEvwQjDhIflpmBrJXvZzac6hWeVmslbsq7vAY5MXJToJRvoYUo_jJTZU5XQkDnlFMurzdEgdUyWlmDXN08M5-2cbR0w=='"
      ]
     },
     "execution_count": 18,
     "metadata": {},
     "output_type": "execute_result"
    }
   ],
   "source": [
    "val"
   ]
  },
  {
   "cell_type": "code",
   "execution_count": 19,
   "id": "376ec16c-570f-4d80-9bc0-5509eb9236aa",
   "metadata": {},
   "outputs": [],
   "source": [
    "import struct"
   ]
  },
  {
   "cell_type": "code",
   "execution_count": 31,
   "id": "9ae4987c-64f5-4177-a2d8-3c40214c8634",
   "metadata": {},
   "outputs": [
    {
     "data": {
      "text/plain": [
       "array([1.2078467e+01, 9.3935905e+26, 6.6427572e+10, 9.5136662e+05,\n",
       "       4.6504655e+27, 8.9036833e+14, 2.8863778e+20, 2.5532029e+14,\n",
       "       1.8803812e+31, 1.2051815e+30, 3.4034156e+15, 3.5438852e+06,\n",
       "       2.1736279e+11, 1.4942047e+13, 3.8399638e+06, 7.9480128e-07,\n",
       "       9.4127100e+02, 2.0806218e+08, 1.8479734e+22, 1.5695762e+13,\n",
       "       4.5715131e+27, 7.5067796e-10, 1.0305805e-11, 2.4308171e+11,\n",
       "       4.6256244e-02], dtype=float32)"
      ]
     },
     "execution_count": 31,
     "metadata": {},
     "output_type": "execute_result"
    }
   ],
   "source": [
    "np.frombuffer(val, dtype=np.float32)"
   ]
  },
  {
   "cell_type": "code",
   "execution_count": 32,
   "id": "07ed7634-95ad-4640-b7ab-a90b257e13c3",
   "metadata": {},
   "outputs": [
    {
     "data": {
      "text/plain": [
       "array([1094795623, 1816281409, 1366783557, 1231570026, 1836084326,\n",
       "       1481273922, 1635408502, 1466447459, 1936545381, 1903387244,\n",
       "       1497462327, 1247300917, 1380609876, 1431924598, 1248485231,\n",
       "        894786132, 1147883864, 1296460910, 1685746293, 1432643397,\n",
       "       1835816825,  810440772,  758467896, 1382179634, 1027438384])"
      ]
     },
     "execution_count": 32,
     "metadata": {},
     "output_type": "execute_result"
    }
   ],
   "source": [
    "np.frombuffer(val, dtype=np.int32)"
   ]
  },
  {
   "cell_type": "code",
   "execution_count": 40,
   "id": "9026b1d9-c52e-4e6b-bcc6-013e8cac74be",
   "metadata": {},
   "outputs": [
    {
     "ename": "ModuleNotFoundError",
     "evalue": "No module named 'syft'",
     "output_type": "error",
     "traceback": [
      "\u001b[1;31m---------------------------------------------------------------------------\u001b[0m",
      "\u001b[1;31mModuleNotFoundError\u001b[0m                       Traceback (most recent call last)",
      "Input \u001b[1;32mIn [40]\u001b[0m, in \u001b[0;36m<cell line: 1>\u001b[1;34m()\u001b[0m\n\u001b[1;32m----> 1\u001b[0m \u001b[38;5;28;01mimport\u001b[39;00m \u001b[38;5;21;01msyft\u001b[39;00m \u001b[38;5;28;01mas\u001b[39;00m \u001b[38;5;21;01msy\u001b[39;00m\n\u001b[0;32m      2\u001b[0m \u001b[38;5;28;01mimport\u001b[39;00m \u001b[38;5;21;01mtorch\u001b[39;00m\n",
      "\u001b[1;31mModuleNotFoundError\u001b[0m: No module named 'syft'"
     ]
    }
   ],
   "source": [
    "import syft as sy\n",
    "import torch"
   ]
  },
  {
   "cell_type": "code",
   "execution_count": 36,
   "id": "b92216ab-af64-4a74-a783-f10d80c9f534",
   "metadata": {},
   "outputs": [
    {
     "data": {
      "text/plain": [
       "b'a\\xad|s'"
      ]
     },
     "execution_count": 36,
     "metadata": {},
     "output_type": "execute_result"
    }
   ],
   "source": [
    "struct.pack('f', sum(np.frombuffer(val, dtype=np.float32)))"
   ]
  },
  {
   "cell_type": "code",
   "execution_count": null,
   "id": "f778fd5b-1ae8-4dd6-abcc-96c8391d06d6",
   "metadata": {},
   "outputs": [
    {
     "data": {
      "text/plain": [
       "(2.0019155126098208e+31,)"
      ]
     },
     "execution_count": 37,
     "metadata": {},
     "output_type": "execute_result"
    }
   ],
   "source": [
    "struct.unpack('f', struct.pack('f', sum(np.frombuffer(val, dtype=np.float32))))"
   ]
  }
 ],
 "metadata": {
  "kernelspec": {
   "display_name": "Python 3 (ipykernel)",
   "language": "python",
   "name": "python3"
  },
  "language_info": {
   "codemirror_mode": {
    "name": "ipython",
    "version": 3
   },
   "file_extension": ".py",
   "mimetype": "text/x-python",
   "name": "python",
   "nbconvert_exporter": "python",
   "pygments_lexer": "ipython3",
   "version": "3.9.12"
  }
 },
 "nbformat": 4,
 "nbformat_minor": 5
}

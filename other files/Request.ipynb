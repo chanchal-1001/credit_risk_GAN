{
 "cells": [
  {
   "cell_type": "code",
   "execution_count": 17,
   "id": "eff8cf35",
   "metadata": {},
   "outputs": [],
   "source": [
    "import requests\n",
    "import json\n",
    "import numpy as np\n",
    "import pandas as pd"
   ]
  },
  {
   "cell_type": "code",
   "execution_count": 55,
   "id": "a776e553",
   "metadata": {},
   "outputs": [],
   "source": [
    "input_data = {'data' : {\n",
    "    \"existingchecking\": \"A11\",\n",
    "    \"duration\": \"6\",\n",
    "    \"credithistory\": \"A34\",\n",
    "    \"purpose\": \"A43\",\n",
    "    \"creditamount\": \"1169\",\n",
    "    \"savings\": \"A65\",\n",
    "    \"employmentsince\": \"A75\",\n",
    "    \"installmentrate\": \"4\",\n",
    "    \"statussex\": \"A93\",\n",
    "    \"otherdebtors\": \"A101\",\n",
    "    \"residencesince\": \"4\",\n",
    "    \"property\": \"A121\",\n",
    "    \"age\": \"67\",\n",
    "    \"otherinstallmentplans\": \"A143\",\n",
    "    \"housing\": \"A152\",\n",
    "    \"existingcredits\": \"2\",\n",
    "    \"job\": \"A173\",\n",
    "    \"peopleliable\": \"1\",\n",
    "    \"telephone\": \"A192\",\n",
    "    \"foreignworker\": \"A201\"\n",
    "}}"
   ]
  },
  {
   "cell_type": "code",
   "execution_count": 35,
   "id": "d44fa9f8",
   "metadata": {},
   "outputs": [],
   "source": [
    "data = json.dumps({\"data\": input_data})"
   ]
  },
  {
   "cell_type": "code",
   "execution_count": null,
   "id": "2779598f-b16d-4258-a5b0-e3f9923b355c",
   "metadata": {},
   "outputs": [],
   "source": [
    "input_data"
   ]
  },
  {
   "cell_type": "code",
   "execution_count": 59,
   "id": "9644644e",
   "metadata": {},
   "outputs": [],
   "source": [
    "response = requests.post('http://localhost:8049/predictData111', data=input_data)"
   ]
  },
  {
   "cell_type": "code",
   "execution_count": 60,
   "id": "0939c5e9",
   "metadata": {},
   "outputs": [
    {
     "name": "stdout",
     "output_type": "stream",
     "text": [
      "<!DOCTYPE HTML PUBLIC \"-//W3C//DTD HTML 3.2 Final//EN\">\n",
      "<title>500 Internal Server Error</title>\n",
      "<h1>Internal Server Error</h1>\n",
      "<p>The server encountered an internal error and was unable to complete your request. Either the server is overloaded or there is an error in the application.</p>\n",
      "\n"
     ]
    }
   ],
   "source": [
    "print(response.text)"
   ]
  },
  {
   "cell_type": "code",
   "execution_count": null,
   "id": "fff6fadf",
   "metadata": {},
   "outputs": [],
   "source": []
  }
 ],
 "metadata": {
  "kernelspec": {
   "display_name": "Python 3 (ipykernel)",
   "language": "python",
   "name": "python3"
  },
  "language_info": {
   "codemirror_mode": {
    "name": "ipython",
    "version": 3
   },
   "file_extension": ".py",
   "mimetype": "text/x-python",
   "name": "python",
   "nbconvert_exporter": "python",
   "pygments_lexer": "ipython3",
   "version": "3.9.12"
  }
 },
 "nbformat": 4,
 "nbformat_minor": 5
}

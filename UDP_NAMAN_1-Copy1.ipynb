{
 "cells": [
  {
   "cell_type": "code",
   "execution_count": 1,
   "id": "6ff8e6a2",
   "metadata": {},
   "outputs": [],
   "source": [
    "import numpy as np\n",
    "import pandas as pd\n",
    "import tensorflow as tf\n",
    "from sklearn.preprocessing import LabelEncoder\n",
    "from keras.models import Sequential\n",
    "from keras.layers import Dense, LeakyReLU, Dropout\n",
    "from keras.optimizers.legacy import Adam\n",
    "from keras.layers import Input\n",
    "from keras.models import Model\n",
    "\n",
    "from sklearn import preprocessing\n",
    "import warnings\n",
    "warnings.simplefilter('ignore', DeprecationWarning)\n",
    "from sklearn.preprocessing import KBinsDiscretizer\n",
    "\n",
    "# Create a label encoder\n",
    "lb_encoder = LabelEncoder()\n",
    "\n",
    "# Load the German credit card data\n",
    "names = ['existingchecking', 'duration', 'credithistory', 'purpose', 'creditamount', \n",
    "         'savings', 'employmentsince', 'installmentrate', 'statussex', 'otherdebtors', \n",
    "         'residencesince', 'property', 'age', 'otherinstallmentplans', 'housing', \n",
    "         'existingcredits', 'job', 'peopleliable', 'telephone', 'foreignworker', 'classification']\n",
    "\n",
    "data_original = pd.read_csv('german.data', names = names, delimiter=' ')"
   ]
  },
  {
   "cell_type": "code",
   "execution_count": 2,
   "id": "2648ee44",
   "metadata": {},
   "outputs": [
    {
     "name": "stdout",
     "output_type": "stream",
     "text": [
      "existingchecking\n",
      "credithistory\n",
      "purpose\n",
      "savings\n",
      "employmentsince\n",
      "statussex\n",
      "otherdebtors\n",
      "property\n",
      "otherinstallmentplans\n",
      "housing\n",
      "job\n",
      "telephone\n",
      "foreignworker\n",
      "classification\n"
     ]
    }
   ],
   "source": [
    "data = data_original.copy()\n",
    "num_col = [\"duration\",\"creditamount\", \"installmentrate\", \"residencesince\", \"age\",\"existingcredits\",\"peopleliable\"]\n",
    "edge_col = []\n",
    "\n",
    "for col in num_col:    \n",
    "    est = KBinsDiscretizer(n_bins=4, encode='ordinal', \n",
    "                       strategy='uniform')\n",
    "    data[col] = est.fit_transform(data[[col]])\n",
    "    for i, edges in enumerate(est.bin_edges_):\n",
    "        edge_col.append(edges)\n",
    "        \n",
    "\n",
    "for item in data.columns:\n",
    "    if item not in num_col:\n",
    "        print(item)\n",
    "        data[item] = lb_encoder.fit_transform(data[item])   "
   ]
  },
  {
   "cell_type": "markdown",
   "id": "547f46df",
   "metadata": {},
   "source": [
    "# Random Forest for feature selection"
   ]
  },
  {
   "cell_type": "code",
   "execution_count": 3,
   "id": "87db7ba6",
   "metadata": {
    "scrolled": true
   },
   "outputs": [
    {
     "data": {
      "image/png": "[encoded data removed]",
      "text/plain": [
       "<Figure size 720x432 with 1 Axes>"
      ]
     },
     "metadata": {
      "needs_background": "light"
     },
     "output_type": "display_data"
    },
    {
     "name": "stdout",
     "output_type": "stream",
     "text": [
      "Top Features:\n",
      "['existingchecking', 'purpose', 'credithistory', 'employmentsince', 'property', 'savings', 'residencesince', 'installmentrate', 'duration', 'statussex', 'age', 'job', 'otherinstallmentplans', 'housing', 'creditamount', 'otherdebtors']\n"
     ]
    }
   ],
   "source": [
    "import pandas as pd\n",
    "from sklearn.ensemble import RandomForestClassifier\n",
    "import matplotlib.pyplot as plt\n",
    "\n",
    "# Assuming 'target_variable' is the name of your target variable\n",
    "target_variable = 'classification'\n",
    "\n",
    "# Encode categorical variables if needed\n",
    "# You may need to preprocess categorical data into numerical format if your dataset contains categorical features\n",
    "\n",
    "# Separate the target variable\n",
    "X = data.drop(target_variable, axis=1)\n",
    "y = data[target_variable]\n",
    "\n",
    "# Train a Random Forest classifier\n",
    "model = RandomForestClassifier()\n",
    "model.fit(X, y)\n",
    "\n",
    "# Get feature importance scores\n",
    "feature_importance = model.feature_importances_\n",
    "\n",
    "# Plot feature importance\n",
    "plt.figure(figsize=(10, 6))\n",
    "plt.bar(X.columns, feature_importance)\n",
    "plt.xticks(rotation=90)\n",
    "plt.title(\"Feature Importance\")\n",
    "plt.xlabel(\"Features\")\n",
    "plt.ylabel(\"Importance\")\n",
    "plt.show()\n",
    "\n",
    "# Choose a threshold for feature selection (e.g., top N features)\n",
    "num_features_to_select = 16  # Number of top features to select\n",
    "\n",
    "# Get the indices of the top N features\n",
    "top_feature_indices = feature_importance.argsort()[-num_features_to_select:][::-1]\n",
    "\n",
    "# Get the names of the top N features\n",
    "top_features_random_forest = X.columns[top_feature_indices]\n",
    "print(\"Top Features:\")\n",
    "print(top_features_random_forest.tolist())\n"
   ]
  },
  {
   "cell_type": "markdown",
   "id": "52c8a243",
   "metadata": {},
   "source": [
    "# Modelling and Comparing Accuracy for Different Feature Selection Technique"
   ]
  },
  {
   "cell_type": "markdown",
   "id": "55ae732f",
   "metadata": {},
   "source": [
    "# Random Forest"
   ]
  },
  {
   "cell_type": "code",
   "execution_count": 4,
   "id": "ce159003",
   "metadata": {},
   "outputs": [],
   "source": [
    "import torch, os\n",
    "import tenseal as ts\n",
    "import torch.nn as nn\n",
    "import torch.optim as optim\n",
    "\n",
    "from sklearn.preprocessing import LabelEncoder, OneHotEncoder\n",
    "from sklearn.model_selection import train_test_split\n",
    "from keras.models import Sequential\n",
    "from keras.layers import Dense\n",
    "\n",
    "\n",
    "salt = os.urandom(16)\n",
    "from cryptography.hazmat.backends import default_backend\n",
    "from cryptography.hazmat.primitives.ciphers import Cipher, algorithms, modes\n",
    "from cryptography.hazmat.primitives import hashes\n",
    "from cryptography.hazmat.primitives.kdf.pbkdf2 import PBKDF2HMAC\n",
    "from base64 import urlsafe_b64encode, urlsafe_b64decode\n",
    "\n",
    "def encrypt_deterministic(key, plaintext):\n",
    "    cipher = Cipher(algorithms.AES(key), modes.ECB(), backend=default_backend())\n",
    "    encryptor = cipher.encryptor()\n",
    "    data_to_encrypt = str(plaintext).encode()\n",
    "    padded_plaintext = data_to_encrypt.ljust(16) # Pad to block size (16 bytes for AES)\n",
    "    ciphertext = encryptor.update(padded_plaintext) + encryptor.finalize()\n",
    "    return urlsafe_b64encode(ciphertext)\n",
    "\n",
    "def decrypt_deterministic(key, ciphertext):\n",
    "    cipher = Cipher(algorithms.AES(key), modes.ECB(), backend=default_backend())\n",
    "    decryptor = cipher.decryptor()\n",
    "    decrypted = decryptor.update(urlsafe_b64decode(ciphertext)) + decryptor.finalize()\n",
    "    return decrypted.rstrip(b'\\0') # Remove padding\n",
    "\n",
    "# Generate a proper AES key using PBKDF2\n",
    "password = b'password'\n",
    "salt = salt\n",
    "kdf = PBKDF2HMAC(\n",
    "algorithm=hashes.SHA256(),\n",
    "iterations=100000,\n",
    "salt=salt,\n",
    "    length=32, # Key size for AES-256\n",
    "    backend=default_backend()\n",
    "    )\n",
    "key = kdf.derive(password)"
   ]
  },
  {
   "cell_type": "code",
   "execution_count": 5,
   "id": "af3d0bd8",
   "metadata": {
    "scrolled": true
   },
   "outputs": [],
   "source": [
    "X = data[top_features_random_forest.tolist()]\n",
    "Y = data[\"classification\"]\n",
    "\n",
    "encrypted_df = X.apply(lambda x: x.apply(lambda y: encrypt_deterministic(key, y)))\n",
    "X_hot = pd.get_dummies(encrypted_df, columns=encrypted_df.columns)\n",
    "encrypted_df_hot = X_hot.copy()\n",
    "       \n",
    "# Split the data into training and testing sets\n",
    "X_train, X_test, y_train, y_test = train_test_split(X_hot,Y, test_size=0.2)"
   ]
  },
  {
   "cell_type": "code",
   "execution_count": 6,
   "id": "ffcfb3db",
   "metadata": {},
   "outputs": [
    {
     "name": "stdout",
     "output_type": "stream",
     "text": [
      "70\n"
     ]
    }
   ],
   "source": [
    "#batch the data\n",
    "batch_size = 50\n",
    "num_batches = len(encrypted_df_hot) / batch_size\n",
    "encrypted_batches = [encrypted_df_hot[i:i + batch_size] for i in range(0,len(encrypted_df_hot), batch_size)]\n",
    "tot_columns = encrypted_df_hot.shape[1]\n",
    "print(tot_columns)"
   ]
  },
  {
   "cell_type": "markdown",
   "id": "76585a75",
   "metadata": {},
   "source": [
    "# GAN Implementation using Tenseal"
   ]
  },
  {
   "cell_type": "code",
   "execution_count": 7,
   "id": "eb74cfdb",
   "metadata": {},
   "outputs": [],
   "source": [
    "#Define Generator\n",
    "def create_generator():\n",
    "    generator = Sequential()\n",
    "    generator.add(Dense(units=256, input_dim=encrypted_df_hot.shape[1]))\n",
    "    generator.add(LeakyReLU(0.2))\n",
    "    \n",
    "    generator.add(Dense(units=512))\n",
    "    generator.add(LeakyReLU(0.2))\n",
    "    \n",
    "    generator.add(Dense(units=1024))\n",
    "    generator.add(LeakyReLU(0.2))\n",
    "    \n",
    "    generator.add(Dense(units=encrypted_df_hot.shape[1], activation='sigmoid'))\n",
    "    \n",
    "    generator.compile(loss='binary_crossentropy', optimizer=Adam(learning_rate=0.0002, beta_1=0.5))\n",
    "    return generator\n",
    "\n",
    "#Define discriminator\n",
    "def create_discriminator():\n",
    "    discriminator = Sequential()\n",
    "    discriminator.add(Dense(units=256, input_dim=encrypted_df_hot.shape[1]))\n",
    "    discriminator.add(LeakyReLU(0.2))\n",
    "    discriminator.add(Dropout(0.3))\n",
    "    \n",
    "    discriminator.add(Dense(units=512))\n",
    "    discriminator.add(LeakyReLU(0.2))\n",
    "    discriminator.add(Dropout(0.3))\n",
    "    \n",
    "    discriminator.add(Dense(units=256))\n",
    "    discriminator.add(LeakyReLU(0.2))\n",
    "    \n",
    "    discriminator.add(Dense(units=encrypted_df_hot.shape[1], activation='sigmoid'))\n",
    "    \n",
    "    discriminator.compile(loss='binary_crossentropy', optimizer=Adam(learning_rate=0.0002, beta_1=0.5))\n",
    "    return discriminator\n",
    "\n",
    "# create GAN\n",
    "def create_gan(discriminator, generator):\n",
    "    discriminator.trainable = False\n",
    "    gan_input = Input(shape=(encrypted_df_hot.shape[1],))\n",
    "    x = generator(gan_input)\n",
    "    gan_output = discriminator(x)\n",
    "    gan = Model(inputs=gan_input, outputs=gan_output)\n",
    "    gan.compile(loss= 'binary_crossentropy', optimizer='adam')\n",
    "    gan.summary()\n",
    "    return gan\n",
    "\n",
    "#define GAN model\n",
    "def train_gan(gan, generator, discriminator, epochs=1, batch_size=50):\n",
    "    \n",
    "    for e in range(epochs):\n",
    "        print(\"In epoch :::::::::::::::::::::::::::::::::::::::::::::::::: \", e)\n",
    "        i=0\n",
    "        for batch in encrypted_batches:\n",
    "            i = i +1\n",
    "            print(\"In batch no :::::::::::::::::::::::::::::::::::::::::::::::::: \", i)\n",
    "            noise = np.random.normal(0,1,[batch_size,tot_columns])\n",
    "            generated_data = generator.predict(noise)\n",
    "            \n",
    "            real_data = batch\n",
    "            #real_data = np.stack(real_data, axis=0)\n",
    "            discriminator.trainable = True\n",
    "            real_loss= discriminator.train_on_batch(real_data,np.ones((batch_size,tot_columns)))#Compute the discriminator's loss on real data\n",
    "            fake_loss= discriminator.train_on_batch(generated_data,np.zeros((batch_size,tot_columns))) #Compute the discriminator's loss on fake data\n",
    "            print(\"real_loss : \", real_loss)\n",
    "            print(\"fake_loss : \", fake_loss)\n",
    "            \n",
    "            discriminator.trainable = False #Don't change discriminator weights\n",
    "            loss = gan.train_on_batch(noise, np.ones((batch_size,tot_columns)))\n",
    "            #loss, accuracy = gan.train_on_batch(X_test, y_test)\n",
    "            print(loss)"
   ]
  },
  {
   "cell_type": "code",
   "execution_count": 8,
   "id": "e39b10b2",
   "metadata": {
    "scrolled": true
   },
   "outputs": [
    {
     "name": "stdout",
     "output_type": "stream",
     "text": [
      "Model: \"model\"\n",
      "_________________________________________________________________\n",
      " Layer (type)                Output Shape              Param #   \n",
      "=================================================================\n",
      " input_1 (InputLayer)        [(None, 70)]              0         \n",
      "                                                                 \n",
      " sequential (Sequential)     (None, 70)                746822    \n",
      "                                                                 \n",
      " sequential_1 (Sequential)   (None, 70)                299078    \n",
      "                                                                 \n",
      "=================================================================\n",
      "Total params: 1045900 (3.99 MB)\n",
      "Trainable params: 746822 (2.85 MB)\n",
      "Non-trainable params: 299078 (1.14 MB)\n",
      "_________________________________________________________________\n",
      "In epoch ::::::::::::::::::::::::::::::::::::::::::::::::::  0\n",
      "In batch no ::::::::::::::::::::::::::::::::::::::::::::::::::  1\n",
      "2/2 [==============================] - 0s 3ms/step\n",
      "real_loss :  0.6931976079940796\n",
      "fake_loss :  0.714285671710968\n",
      "0.6888530254364014\n",
      "In batch no ::::::::::::::::::::::::::::::::::::::::::::::::::  2\n",
      "2/2 [==============================] - 0s 2ms/step\n",
      "real_loss :  0.6843776702880859\n",
      "fake_loss :  0.7135350704193115\n",
      "0.688982367515564\n",
      "In batch no ::::::::::::::::::::::::::::::::::::::::::::::::::  3\n",
      "2/2 [==============================] - 0s 2ms/step\n",
      "real_loss :  0.6812437176704407\n",
      "fake_loss :  0.7121442556381226\n",
      "0.688252866268158\n",
      "In batch no ::::::::::::::::::::::::::::::::::::::::::::::::::  4\n",
      "2/2 [==============================] - 0s 3ms/step\n",
      "real_loss :  0.6768234968185425\n",
      "fake_loss :  0.712411105632782\n",
      "0.6871858835220337\n",
      "In batch no ::::::::::::::::::::::::::::::::::::::::::::::::::  5\n",
      "2/2 [==============================] - 0s 2ms/step\n",
      "real_loss :  0.6743431687355042\n",
      "fake_loss :  0.7127344012260437\n",
      "0.687869668006897\n",
      "In batch no ::::::::::::::::::::::::::::::::::::::::::::::::::  6\n",
      "2/2 [==============================] - 0s 2ms/step\n",
      "real_loss :  0.6735725402832031\n",
      "fake_loss :  0.7117855548858643\n",
      "0.6915563344955444\n",
      "In batch no ::::::::::::::::::::::::::::::::::::::::::::::::::  7\n",
      "2/2 [==============================] - 0s 2ms/step\n",
      "real_loss :  0.6710444688796997\n",
      "fake_loss :  0.7094244956970215\n",
      "0.6963593363761902\n",
      "In batch no ::::::::::::::::::::::::::::::::::::::::::::::::::  8\n",
      "2/2 [==============================] - 0s 3ms/step\n",
      "real_loss :  0.6696271300315857\n",
      "fake_loss :  0.7052348256111145\n",
      "0.7013385891914368\n",
      "In batch no ::::::::::::::::::::::::::::::::::::::::::::::::::  9\n",
      "2/2 [==============================] - 0s 3ms/step\n",
      "real_loss :  0.6632784008979797\n",
      "fake_loss :  0.6984498500823975\n",
      "0.7041837573051453\n",
      "In batch no ::::::::::::::::::::::::::::::::::::::::::::::::::  10\n",
      "2/2 [==============================] - 0s 2ms/step\n",
      "real_loss :  0.663794994354248\n",
      "fake_loss :  0.696299135684967\n",
      "0.7091819047927856\n",
      "In batch no ::::::::::::::::::::::::::::::::::::::::::::::::::  11\n",
      "2/2 [==============================] - 0s 2ms/step\n",
      "real_loss :  0.6597802639007568\n",
      "fake_loss :  0.6937541365623474\n",
      "0.7169360518455505\n",
      "In batch no ::::::::::::::::::::::::::::::::::::::::::::::::::  12\n",
      "2/2 [==============================] - 0s 2ms/step\n",
      "real_loss :  0.660247266292572\n",
      "fake_loss :  0.6883518695831299\n",
      "0.7225031852722168\n",
      "In batch no ::::::::::::::::::::::::::::::::::::::::::::::::::  13\n",
      "2/2 [==============================] - 0s 3ms/step\n",
      "real_loss :  0.6607169508934021\n",
      "fake_loss :  0.6796232461929321\n",
      "0.7323076128959656\n",
      "In batch no ::::::::::::::::::::::::::::::::::::::::::::::::::  14\n",
      "2/2 [==============================] - 0s 996us/step\n",
      "real_loss :  0.6560459733009338\n",
      "fake_loss :  0.6686156392097473\n",
      "0.7402565479278564\n",
      "In batch no ::::::::::::::::::::::::::::::::::::::::::::::::::  15\n",
      "2/2 [==============================] - 0s 2ms/step\n",
      "real_loss :  0.652744472026825\n",
      "fake_loss :  0.6652583479881287\n",
      "0.7482689619064331\n",
      "In batch no ::::::::::::::::::::::::::::::::::::::::::::::::::  16\n",
      "2/2 [==============================] - 0s 3ms/step\n",
      "real_loss :  0.6454229950904846\n",
      "fake_loss :  0.6555802226066589\n",
      "0.7558076977729797\n",
      "In batch no ::::::::::::::::::::::::::::::::::::::::::::::::::  17\n",
      "2/2 [==============================] - 0s 2ms/step\n",
      "real_loss :  0.6451047658920288\n",
      "fake_loss :  0.6522920727729797\n",
      "0.7661688327789307\n",
      "In batch no ::::::::::::::::::::::::::::::::::::::::::::::::::  18\n",
      "2/2 [==============================] - 0s 3ms/step\n",
      "real_loss :  0.6448060870170593\n",
      "fake_loss :  0.6450453400611877\n",
      "0.7758060693740845\n",
      "In batch no ::::::::::::::::::::::::::::::::::::::::::::::::::  19\n",
      "2/2 [==============================] - 0s 2ms/step\n",
      "real_loss :  0.641984760761261\n",
      "fake_loss :  0.6486628651618958\n",
      "0.7740416526794434\n",
      "In batch no ::::::::::::::::::::::::::::::::::::::::::::::::::  20\n",
      "2/2 [==============================] - 0s 2ms/step\n",
      "real_loss :  0.6276955604553223\n",
      "fake_loss :  0.6531544327735901\n",
      "0.7738723158836365\n"
     ]
    }
   ],
   "source": [
    "#create the models\n",
    "generator = create_generator()\n",
    "discriminator = create_discriminator()\n",
    "#train GAN model\n",
    "gan = create_gan(discriminator, generator)\n",
    "train_gan(gan,generator, discriminator)"
   ]
  },
  {
   "cell_type": "markdown",
   "id": "4d46a433",
   "metadata": {},
   "source": [
    "# Training NN without GAN"
   ]
  },
  {
   "cell_type": "code",
   "execution_count": 9,
   "id": "257a1ee0",
   "metadata": {},
   "outputs": [
    {
     "name": "stdout",
     "output_type": "stream",
     "text": [
      "Epoch [100/1000], Loss: 0.6004142165184021\n",
      "Epoch [200/1000], Loss: 0.593498945236206\n",
      "Epoch [300/1000], Loss: 0.5820443630218506\n",
      "Epoch [400/1000], Loss: 0.5522283911705017\n",
      "Epoch [500/1000], Loss: 0.49457523226737976\n",
      "Epoch [600/1000], Loss: 0.4621390104293823\n",
      "Epoch [700/1000], Loss: 0.4343376159667969\n",
      "Epoch [800/1000], Loss: 0.406296044588089\n",
      "Epoch [900/1000], Loss: 0.3589590787887573\n",
      "Epoch [1000/1000], Loss: 0.35206496715545654\n"
     ]
    }
   ],
   "source": [
    "import torch\n",
    "import torch.nn as nn\n",
    "import torch.optim as optim\n",
    "\n",
    "# Define the neural network\n",
    "class BinaryClassifier(nn.Module):\n",
    "    def __init__(self, in_columns):\n",
    "        super(BinaryClassifier, self).__init__()\n",
    "        '''self.layer1 = nn.Linear(in_columns, 256, bias=True)\n",
    "        self.layer2 = nn.Linear(256, 1024, bias=True)\n",
    "        self.layer3 = nn.Linear(1024, 512, bias=True)\n",
    "        self.layer4 = nn.Linear(512, 256, bias=True)\n",
    "        self.layer5 = nn.Linear(256, 1, bias=True)'''\n",
    "        self.layer1 = nn.Linear(in_columns, 256, bias=True)\n",
    "        self.layer2 = nn.Sequential(nn.Linear(256, 1024, bias=True), nn.Dropout(0.1))\n",
    "        self.layer3 = nn.Sequential(nn.Linear(1024, 512, bias=True), nn.Dropout(0.1))\n",
    "        self.layer4 = nn.Sequential(nn.Linear(512, 256, bias=True), nn.Dropout(0.1))\n",
    "        self.layer5 = nn.Linear(256, 1, bias=True)\n",
    "        \n",
    "\n",
    "    def forward(self, x):\n",
    "        x = torch.relu(self.layer1(x))\n",
    "        x = torch.relu(self.layer2(x))\n",
    "        x = torch.relu(self.layer3(x))\n",
    "        x = torch.relu(self.layer4(x))\n",
    "        x = torch.sigmoid(self.layer5(x))\n",
    "        return x\n",
    "\n",
    "# Create an instance of the model\n",
    "model = BinaryClassifier(X_train.shape[1])\n",
    "\n",
    "# Define the loss function and optimizer\n",
    "criterion = nn.BCELoss()\n",
    "optimizer = optim.SGD(model.parameters(), lr=0.05)\n",
    "#optimizer = optim.Adam(model.parameters(), lr=0.01)\n",
    "\n",
    "\n",
    "# Training loop\n",
    "epochs = 1000\n",
    "\n",
    "for epoch in range(epochs):\n",
    "    # Forward pass\n",
    "    y_pred = model(torch.tensor(X_train.values, dtype=torch.float32))\n",
    "    \n",
    "    # Modify the target tensor\n",
    "    y_train_tn = torch.tensor(y_train.values, dtype=torch.float32).view(-1, 1)\n",
    "\n",
    "    # Calculate the loss\n",
    "    loss = criterion(y_pred, y_train_tn)\n",
    "\n",
    "    # Backward pass and optimization\n",
    "    optimizer.zero_grad()\n",
    "    loss.backward()\n",
    "    optimizer.step()\n",
    "\n",
    "    # Print the loss every 100 epochs\n",
    "    if (epoch + 1) % 100 == 0:\n",
    "        print(f'Epoch [{epoch + 1}/{epochs}], Loss: {loss.item()}')\n",
    "\n",
    "# Test the model\n",
    "with torch.no_grad():\n",
    "    y_pred = model(torch.tensor(X_test.values, dtype=torch.float32))\n",
    "    y_pred_binary = (y_pred >= y_pred.mean()).int()"
   ]
  },
  {
   "cell_type": "code",
   "execution_count": 23,
   "id": "014ef96f-48f8-4f90-8c47-b51f2602d626",
   "metadata": {},
   "outputs": [
    {
     "data": {
      "text/plain": [
       "(1000, 70)"
      ]
     },
     "execution_count": 23,
     "metadata": {},
     "output_type": "execute_result"
    }
   ],
   "source": [
    "encrypted_df_hot.shape"
   ]
  },
  {
   "cell_type": "code",
   "execution_count": 10,
   "id": "e46f5904",
   "metadata": {},
   "outputs": [
    {
     "data": {
      "text/plain": [
       "[Text(0, 0.5, '0'), Text(0, 1.5, '1')]"
      ]
     },
     "execution_count": 10,
     "metadata": {},
     "output_type": "execute_result"
    },
    {
     "data": {
      "image/png": "[encoded data removed]",
      "text/plain": [
       "<Figure size 432x288 with 2 Axes>"
      ]
     },
     "metadata": {
      "needs_background": "light"
     },
     "output_type": "display_data"
    }
   ],
   "source": [
    "from sklearn.metrics import accuracy_score, confusion_matrix, classification_report\n",
    "import matplotlib.pyplot as pt\n",
    "import seaborn as sbn\n",
    "\n",
    "con_mat = confusion_matrix(y_test, y_pred_binary)\n",
    "ax= pt.subplot()\n",
    "sbn.heatmap(con_mat, annot=True, fmt='g', ax=ax);  #annot=True to annotate cells, ftm='g' to disable scientific notation\n",
    "\n",
    "# labels, title and ticks\n",
    "ax.set_xlabel('Predicted labels')\n",
    "ax.set_ylabel('True labels')\n",
    "ax.set_title('Confusion Matrix for Test Data')\n",
    "ax.xaxis.set_ticklabels(['0', '1'])\n",
    "ax.yaxis.set_ticklabels(['0', '1'])"
   ]
  },
  {
   "cell_type": "code",
   "execution_count": 11,
   "id": "34f57fdc",
   "metadata": {
    "scrolled": true
   },
   "outputs": [
    {
     "name": "stdout",
     "output_type": "stream",
     "text": [
      "              precision    recall  f1-score   support\n",
      "\n",
      "           0       0.86      0.70      0.78       132\n",
      "           1       0.58      0.78      0.66        68\n",
      "\n",
      "    accuracy                           0.73       200\n",
      "   macro avg       0.72      0.74      0.72       200\n",
      "weighted avg       0.76      0.73      0.74       200\n",
      "\n"
     ]
    }
   ],
   "source": [
    "print(classification_report(y_test, y_pred_binary))"
   ]
  },
  {
   "cell_type": "markdown",
   "id": "f6ecb472",
   "metadata": {},
   "source": [
    "# Generate Synthetic Data and Train"
   ]
  },
  {
   "cell_type": "code",
   "execution_count": 12,
   "id": "c18985f6-c3d2-4060-8ad8-524c4d93822f",
   "metadata": {},
   "outputs": [
    {
     "data": {
      "text/plain": [
       "70"
      ]
     },
     "execution_count": 12,
     "metadata": {},
     "output_type": "execute_result"
    }
   ],
   "source": [
    "tot_columns"
   ]
  },
  {
   "cell_type": "code",
   "execution_count": 13,
   "id": "1cd18bb9",
   "metadata": {},
   "outputs": [
    {
     "name": "stdout",
     "output_type": "stream",
     "text": [
      "25/25 [==============================] - 0s 2ms/step\n",
      "Epoch [100/1000], Loss: 0.6033375263214111\n",
      "Epoch [200/1000], Loss: 0.6005458235740662\n",
      "Epoch [300/1000], Loss: 0.600118100643158\n",
      "Epoch [400/1000], Loss: 0.5986826419830322\n",
      "Epoch [500/1000], Loss: 0.5970531702041626\n",
      "Epoch [600/1000], Loss: 0.594976007938385\n",
      "Epoch [700/1000], Loss: 0.5913342833518982\n",
      "Epoch [800/1000], Loss: 0.585355281829834\n",
      "Epoch [900/1000], Loss: 0.5753982067108154\n",
      "Epoch [1000/1000], Loss: 0.5609719157218933\n"
     ]
    }
   ],
   "source": [
    "import numpy as np\n",
    "import torch\n",
    "\n",
    "# Assuming your GAN's generator is named \"generator\"\n",
    "def generate_synthetic_data(generator, num_samples, noise_dim):\n",
    "    noise = np.random.normal(0, 1, [num_samples, noise_dim])\n",
    "    generated_data = generator.predict(noise)\n",
    "    return generated_data\n",
    "\n",
    "# Create synthetic data using the trained GAN\n",
    "num_samples = X_train.shape[0]  # Generate as many synthetic samples as real samples\n",
    "noise_dim = tot_columns  # Assuming noise dimension is same as number of columns in encrypted_df_hot\n",
    "synthetic_data = generate_synthetic_data(generator, num_samples, noise_dim)\n",
    "\n",
    "# Combine the real and synthetic data\n",
    "combined_X = np.vstack((X_train.values, synthetic_data))\n",
    "combined_y = np.concatenate((y_train.values, y_train.values))  # Assuming you want same distribution for synthetic data\n",
    "\n",
    "# Convert data to PyTorch tensors\n",
    "X_tensor = torch.tensor(combined_X, dtype=torch.float32)\n",
    "y_tensor = torch.tensor(combined_y, dtype=torch.float32).view(-1, 1)\n",
    "\n",
    "# Define your BinaryClassifier and training loop as before\n",
    "model = BinaryClassifier(combined_X.shape[1])\n",
    "criterion = nn.BCELoss()\n",
    "optimizer = optim.SGD(model.parameters(), lr=0.05)\n",
    "\n",
    "# Training loop\n",
    "epochs = 1000\n",
    "for epoch in range(epochs):\n",
    "    y_pred = model(X_tensor)\n",
    "    loss = criterion(y_pred, y_tensor)\n",
    "    optimizer.zero_grad()\n",
    "    loss.backward()\n",
    "    optimizer.step()\n",
    "    if (epoch + 1) % 100 == 0:\n",
    "        print(f'Epoch [{epoch + 1}/{epochs}], Loss: {loss.item()}')\n",
    "\n",
    "# Test the model as before\n",
    "with torch.no_grad():\n",
    "    y_pred = model(torch.tensor(X_test.values, dtype=torch.float32))\n",
    "    y_pred_binary = (y_pred >= 0.5).int()  # Using 0.5 as threshold here for binary classification\n"
   ]
  },
  {
   "cell_type": "code",
   "execution_count": null,
   "id": "cd0badbf-bc35-43a3-a792-9511a19292db",
   "metadata": {},
   "outputs": [],
   "source": [
    "y_pred"
   ]
  },
  {
   "cell_type": "code",
   "execution_count": 15,
   "id": "4eafe631",
   "metadata": {},
   "outputs": [
    {
     "data": {
      "text/plain": [
       "[Text(0, 0.5, '0'), Text(0, 1.5, '1')]"
      ]
     },
     "execution_count": 15,
     "metadata": {},
     "output_type": "execute_result"
    },
    {
     "data": {
      "image/png": "[encoded data removed]",
      "text/plain": [
       "<Figure size 432x288 with 2 Axes>"
      ]
     },
     "metadata": {
      "needs_background": "light"
     },
     "output_type": "display_data"
    }
   ],
   "source": [
    "from sklearn.metrics import accuracy_score, confusion_matrix, classification_report\n",
    "import matplotlib.pyplot as pt\n",
    "import seaborn as sbn\n",
    "\n",
    "con_mat = confusion_matrix(y_test, y_pred_binary)\n",
    "ax= pt.subplot()\n",
    "sbn.heatmap(con_mat, annot=True, fmt='g', ax=ax);  #annot=True to annotate cells, ftm='g' to disable scientific notation\n",
    "\n",
    "# labels, title and ticks\n",
    "ax.set_xlabel('Predicted labels')\n",
    "ax.set_ylabel('True labels')\n",
    "ax.set_title('Confusion Matrix for Test Data')\n",
    "ax.xaxis.set_ticklabels(['0', '1'])\n",
    "ax.yaxis.set_ticklabels(['0', '1'])"
   ]
  },
  {
   "cell_type": "code",
   "execution_count": 16,
   "id": "66822591",
   "metadata": {},
   "outputs": [
    {
     "name": "stdout",
     "output_type": "stream",
     "text": [
      "              precision    recall  f1-score   support\n",
      "\n",
      "           0       0.66      1.00      0.80       132\n",
      "           1       0.00      0.00      0.00        68\n",
      "\n",
      "    accuracy                           0.66       200\n",
      "   macro avg       0.33      0.50      0.40       200\n",
      "weighted avg       0.44      0.66      0.52       200\n",
      "\n"
     ]
    },
    {
     "name": "stderr",
     "output_type": "stream",
     "text": [
      "C:\\Users\\chanc\\anaconda3\\lib\\site-packages\\sklearn\\metrics\\_classification.py:1318: UndefinedMetricWarning: Precision and F-score are ill-defined and being set to 0.0 in labels with no predicted samples. Use `zero_division` parameter to control this behavior.\n",
      "  _warn_prf(average, modifier, msg_start, len(result))\n",
      "C:\\Users\\chanc\\anaconda3\\lib\\site-packages\\sklearn\\metrics\\_classification.py:1318: UndefinedMetricWarning: Precision and F-score are ill-defined and being set to 0.0 in labels with no predicted samples. Use `zero_division` parameter to control this behavior.\n",
      "  _warn_prf(average, modifier, msg_start, len(result))\n",
      "C:\\Users\\chanc\\anaconda3\\lib\\site-packages\\sklearn\\metrics\\_classification.py:1318: UndefinedMetricWarning: Precision and F-score are ill-defined and being set to 0.0 in labels with no predicted samples. Use `zero_division` parameter to control this behavior.\n",
      "  _warn_prf(average, modifier, msg_start, len(result))\n"
     ]
    }
   ],
   "source": [
    "print(classification_report(y_test, y_pred_binary))"
   ]
  },
  {
   "cell_type": "markdown",
   "id": "100a9dd1",
   "metadata": {},
   "source": [
    "# XG BOOST "
   ]
  },
  {
   "cell_type": "code",
   "execution_count": 17,
   "id": "e999299e",
   "metadata": {},
   "outputs": [
    {
     "ename": "ModuleNotFoundError",
     "evalue": "No module named 'xgboost'",
     "output_type": "error",
     "traceback": [
      "\u001b[1;31m---------------------------------------------------------------------------\u001b[0m",
      "\u001b[1;31mModuleNotFoundError\u001b[0m                       Traceback (most recent call last)",
      "Input \u001b[1;32mIn [17]\u001b[0m, in \u001b[0;36m<cell line: 1>\u001b[1;34m()\u001b[0m\n\u001b[1;32m----> 1\u001b[0m \u001b[38;5;28;01mimport\u001b[39;00m \u001b[38;5;21;01mxgboost\u001b[39;00m \u001b[38;5;28;01mas\u001b[39;00m \u001b[38;5;21;01mxgb\u001b[39;00m\n\u001b[0;32m      2\u001b[0m \u001b[38;5;28;01mfrom\u001b[39;00m \u001b[38;5;21;01mxgboost\u001b[39;00m \u001b[38;5;28;01mimport\u001b[39;00m plot_importance\n\u001b[0;32m      3\u001b[0m \u001b[38;5;28;01mimport\u001b[39;00m \u001b[38;5;21;01mmatplotlib\u001b[39;00m\u001b[38;5;21;01m.\u001b[39;00m\u001b[38;5;21;01mpyplot\u001b[39;00m \u001b[38;5;28;01mas\u001b[39;00m \u001b[38;5;21;01mplt\u001b[39;00m\n",
      "\u001b[1;31mModuleNotFoundError\u001b[0m: No module named 'xgboost'"
     ]
    }
   ],
   "source": [
    "import xgboost as xgb\n",
    "from xgboost import plot_importance\n",
    "import matplotlib.pyplot as plt"
   ]
  },
  {
   "cell_type": "code",
   "execution_count": null,
   "id": "67fb09e7",
   "metadata": {},
   "outputs": [],
   "source": [
    "target_variable = 'classification'\n",
    "\n",
    "# Encode categorical variables if needed\n",
    "# You may need to preprocess categorical data into numerical format if your dataset contains categorical features\n",
    "\n",
    "# Separate the target variable\n",
    "X = data.drop(target_variable, axis=1)\n",
    "y = data[target_variable]\n",
    "\n",
    "# Train an XGBoost model\n",
    "model = xgb.XGBClassifier()\n",
    "model.fit(X, y)\n",
    "\n",
    "# Plot feature importance\n",
    "plot_importance(model)\n",
    "plt.show()\n",
    "\n",
    "# Get feature importance scores\n",
    "feature_importance = model.feature_importances_\n",
    "\n",
    "# Choose a threshold for feature selection (e.g., top N features)\n",
    "num_features_to_select = 15  # Number of top features to select\n",
    "\n",
    "# Get the indices of the top N features\n",
    "top_feature_indices = feature_importance.argsort()[-num_features_to_select:][::-1]\n",
    "\n",
    "# Get the names of the top N features\n",
    "top_features_xgboost = X.columns[top_feature_indices]\n",
    "print(\"Top Features:\")\n",
    "print(top_features_xgboost.tolist())"
   ]
  },
  {
   "cell_type": "code",
   "execution_count": null,
   "id": "4658c474",
   "metadata": {},
   "outputs": [],
   "source": [
    "X = data[top_features_xgboost.tolist()]\n",
    "Y = data[\"classification\"]\n",
    "\n",
    "encrypted_df = X.apply(lambda x: x.apply(lambda y: encrypt_deterministic(key, y)))\n",
    "X_hot = pd.get_dummies(encrypted_df, columns=encrypted_df.columns)\n",
    "encrypted_df_hot = X_hot.copy()\n",
    "encrypted_df_hot[\"classification\"] = Y\n",
    "       \n",
    "# Split the data into training and testing sets\n",
    "X_train, X_test, y_train, y_test = train_test_split(X_hot,Y, test_size=0.2)"
   ]
  },
  {
   "cell_type": "code",
   "execution_count": null,
   "id": "de986c39",
   "metadata": {},
   "outputs": [],
   "source": [
    "encrypted_batches = [encrypted_df_hot[i:i + batch_size] for i in range(0,len(encrypted_df_hot), batch_size)]\n",
    "tot_columns = encrypted_df_hot.shape[1]\n",
    "print(tot_columns)"
   ]
  },
  {
   "cell_type": "code",
   "execution_count": null,
   "id": "67ba285b",
   "metadata": {},
   "outputs": [],
   "source": [
    "#Define Generator\n",
    "def create_generator():\n",
    "    generator = Sequential()\n",
    "    generator.add(Dense(units=256, input_dim=encrypted_df_hot.shape[1]))\n",
    "    generator.add(LeakyReLU(0.2))\n",
    "    \n",
    "    generator.add(Dense(units=512))\n",
    "    generator.add(LeakyReLU(0.2))\n",
    "    \n",
    "    generator.add(Dense(units=1024))\n",
    "    generator.add(LeakyReLU(0.2))\n",
    "    \n",
    "    generator.add(Dense(units=encrypted_df_hot.shape[1], activation='sigmoid'))\n",
    "    \n",
    "    generator.compile(loss='binary_crossentropy', optimizer=Adam(learning_rate=0.0002, beta_1=0.5))\n",
    "    return generator\n",
    "\n",
    "#Define discriminator\n",
    "def create_discriminator():\n",
    "    discriminator = Sequential()\n",
    "    discriminator.add(Dense(units=256, input_dim=encrypted_df_hot.shape[1]))\n",
    "    discriminator.add(LeakyReLU(0.2))\n",
    "    discriminator.add(Dropout(0.3))\n",
    "    \n",
    "    discriminator.add(Dense(units=512))\n",
    "    discriminator.add(LeakyReLU(0.2))\n",
    "    discriminator.add(Dropout(0.3))\n",
    "    \n",
    "    discriminator.add(Dense(units=256))\n",
    "    discriminator.add(LeakyReLU(0.2))\n",
    "    \n",
    "    discriminator.add(Dense(units=encrypted_df_hot.shape[1], activation='sigmoid'))\n",
    "    \n",
    "    discriminator.compile(loss='binary_crossentropy', optimizer=Adam(learning_rate=0.0002, beta_1=0.5))\n",
    "    return discriminator\n",
    "\n",
    "# create GAN\n",
    "def create_gan(discriminator, generator):\n",
    "    discriminator.trainable = False\n",
    "    gan_input = Input(shape=(encrypted_df_hot.shape[1],))\n",
    "    x = generator(gan_input)\n",
    "    gan_output = discriminator(x)\n",
    "    gan = Model(inputs=gan_input, outputs=gan_output)\n",
    "    gan.compile(loss= 'binary_crossentropy', optimizer='adam')\n",
    "    gan.summary()\n",
    "    return gan\n",
    "\n",
    "#define GAN model\n",
    "def train_gan(gan, generator, discriminator, epochs=1, batch_size=50):\n",
    "    \n",
    "    for e in range(epochs):\n",
    "        print(\"In epoch :::::::::::::::::::::::::::::::::::::::::::::::::: \", e)\n",
    "        i=0\n",
    "        for batch in encrypted_batches:\n",
    "            i = i +1\n",
    "            print(\"In batch no :::::::::::::::::::::::::::::::::::::::::::::::::: \", i)\n",
    "            noise = np.random.normal(0,1,[batch_size,tot_columns])\n",
    "            generated_data = generator.predict(noise)\n",
    "            \n",
    "            real_data = batch\n",
    "            #real_data = np.stack(real_data, axis=0)\n",
    "            discriminator.trainable = True\n",
    "            real_loss= discriminator.train_on_batch(real_data,np.ones((batch_size,tot_columns)))#Compute the discriminator's loss on real data\n",
    "            fake_loss= discriminator.train_on_batch(generated_data,np.zeros((batch_size,tot_columns))) #Compute the discriminator's loss on fake data\n",
    "            print(\"real_loss : \", real_loss)\n",
    "            print(\"fake_loss : \", fake_loss)\n",
    "            \n",
    "            discriminator.trainable = False #Don't change discriminator weights\n",
    "            loss = gan.train_on_batch(noise, np.ones((batch_size,tot_columns)))\n",
    "            #loss, accuracy = gan.train_on_batch(X_test, y_test)\n",
    "            print(loss)"
   ]
  },
  {
   "cell_type": "code",
   "execution_count": null,
   "id": "6119fe74",
   "metadata": {},
   "outputs": [],
   "source": [
    "#create the models\n",
    "generator = create_generator()\n",
    "discriminator = create_discriminator()\n",
    "#train GAN model\n",
    "gan = create_gan(discriminator, generator)\n",
    "train_gan(gan,generator, discriminator)"
   ]
  },
  {
   "cell_type": "code",
   "execution_count": null,
   "id": "b29414e9",
   "metadata": {},
   "outputs": [],
   "source": [
    "import torch\n",
    "import torch.nn as nn\n",
    "import torch.optim as optim\n",
    "\n",
    "# Define the neural network\n",
    "class BinaryClassifier(nn.Module):\n",
    "    def __init__(self, in_columns):\n",
    "        super(BinaryClassifier, self).__init__()\n",
    "        '''self.layer1 = nn.Linear(in_columns, 256, bias=True)\n",
    "        self.layer2 = nn.Linear(256, 1024, bias=True)\n",
    "        self.layer3 = nn.Linear(1024, 512, bias=True)\n",
    "        self.layer4 = nn.Linear(512, 256, bias=True)\n",
    "        self.layer5 = nn.Linear(256, 1, bias=True)'''\n",
    "        self.layer1 = nn.Linear(in_columns, 256, bias=True)\n",
    "        self.layer2 = nn.Sequential(nn.Linear(256, 1024, bias=True), nn.Dropout(0.1))\n",
    "        self.layer3 = nn.Sequential(nn.Linear(1024, 512, bias=True), nn.Dropout(0.1))\n",
    "        self.layer4 = nn.Sequential(nn.Linear(512, 256, bias=True), nn.Dropout(0.1))\n",
    "        self.layer5 = nn.Linear(256, 1, bias=True)\n",
    "        \n",
    "\n",
    "    def forward(self, x):\n",
    "        x = torch.relu(self.layer1(x))\n",
    "        x = torch.relu(self.layer2(x))\n",
    "        x = torch.relu(self.layer3(x))\n",
    "        x = torch.relu(self.layer4(x))\n",
    "        x = torch.sigmoid(self.layer5(x))\n",
    "        return x\n",
    "\n",
    "# Create an instance of the model\n",
    "model = BinaryClassifier(X_train.shape[1])\n",
    "\n",
    "# Define the loss function and optimizer\n",
    "criterion = nn.BCELoss()\n",
    "optimizer = optim.SGD(model.parameters(), lr=0.05)\n",
    "#optimizer = optim.Adam(model.parameters(), lr=0.01)\n",
    "\n",
    "\n",
    "# Training loop\n",
    "epochs = 1000\n",
    "\n",
    "for epoch in range(epochs):\n",
    "    # Forward pass\n",
    "    y_pred = model(torch.tensor(X_train.values, dtype=torch.float32))\n",
    "    \n",
    "    # Modify the target tensor\n",
    "    y_train_tn = torch.tensor(y_train.values, dtype=torch.float32).view(-1, 1)\n",
    "\n",
    "    # Calculate the loss\n",
    "    loss = criterion(y_pred, y_train_tn)\n",
    "\n",
    "    # Backward pass and optimization\n",
    "    optimizer.zero_grad()\n",
    "    loss.backward()\n",
    "    optimizer.step()\n",
    "\n",
    "    # Print the loss every 100 epochs\n",
    "    if (epoch + 1) % 100 == 0:\n",
    "        print(f'Epoch [{epoch + 1}/{epochs}], Loss: {loss.item()}')\n",
    "\n",
    "# Test the model\n",
    "with torch.no_grad():\n",
    "    y_pred = model(torch.tensor(X_test.values, dtype=torch.float32))\n",
    "    y_pred_binary = (y_pred >= y_pred.mean()).int()"
   ]
  },
  {
   "cell_type": "code",
   "execution_count": null,
   "id": "e0f3ad52",
   "metadata": {},
   "outputs": [],
   "source": [
    "from sklearn.metrics import accuracy_score, confusion_matrix, classification_report\n",
    "import matplotlib.pyplot as pt\n",
    "import seaborn as sbn\n",
    "\n",
    "con_mat = confusion_matrix(y_test, y_pred_binary)\n",
    "ax= pt.subplot()\n",
    "sbn.heatmap(con_mat, annot=True, fmt='g', ax=ax);  #annot=True to annotate cells, ftm='g' to disable scientific notation\n",
    "\n",
    "# labels, title and ticks\n",
    "ax.set_xlabel('Predicted labels')\n",
    "ax.set_ylabel('True labels')\n",
    "ax.set_title('Confusion Matrix for Test Data')\n",
    "ax.xaxis.set_ticklabels(['0', '1'])\n",
    "ax.yaxis.set_ticklabels(['0', '1'])"
   ]
  },
  {
   "cell_type": "code",
   "execution_count": null,
   "id": "c05b3f3b",
   "metadata": {},
   "outputs": [],
   "source": [
    "print(classification_report(y_test, y_pred_binary))"
   ]
  }
 ],
 "metadata": {
  "kernelspec": {
   "display_name": "Python 3 (ipykernel)",
   "language": "python",
   "name": "python3"
  },
  "language_info": {
   "codemirror_mode": {
    "name": "ipython",
    "version": 3
   },
   "file_extension": ".py",
   "mimetype": "text/x-python",
   "name": "python",
   "nbconvert_exporter": "python",
   "pygments_lexer": "ipython3",
   "version": "3.9.12"
  }
 },
 "nbformat": 4,
 "nbformat_minor": 5
}
